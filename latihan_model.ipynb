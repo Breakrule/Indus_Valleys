{
 "cells": [
  {
   "cell_type": "code",
   "execution_count": 1,
   "metadata": {},
   "outputs": [],
   "source": [
    "import tensorflow as tf\n",
    "from keras.models import Sequential\n",
    "from keras.layers import Conv2D, MaxPooling2D, Flatten, Dense, Activation\n",
    "\n",
    "size_ = 100\n",
    "\n",
    "\n",
    "model = Sequential()\n",
    "\n",
    "model.add(Conv2D(2, (5, 5), input_shape = (size_, size_, 3), activation = 'relu'))\n",
    "model.add(Conv2D(4, (3, 3), activation = 'relu'))\n",
    "model.add(MaxPooling2D(pool_size=(3, 3)))\n",
    "model.add(Conv2D(8, (3, 3), activation = 'relu'))\n",
    "model.add(Conv2D(16, (5, 5), activation = 'relu'))\n",
    "model.add(MaxPooling2D(pool_size=(3, 3)))\n",
    "model.add(Flatten())\n",
    "\n",
    "model.add(Dense(units = 3, activation='softmax'))\n",
    "\n",
    "model.compile(optimizer = 'sgd', loss = 'sparse_categorical_crossentropy', metrics = [\"accuracy\"])"
   ]
  },
  {
   "cell_type": "code",
   "execution_count": null,
   "metadata": {},
   "outputs": [],
   "source": [
    "from xml.etree.ElementInclude import include\n",
    "from tensorflow import layers, models\n",
    "\n",
    "from tensorflow.keras.applications.resnet_v2 import ResNet101V2\n",
    "\n",
    "siz_e_ = 64\n",
    "\n",
    "base_model = ResNet101V2(\n",
    "    input_shape=(siz_e_,siz_e_, 3),\n",
    "    include_top=False,\n",
    "    weights='imagenet'\n",
    "    )\n",
    "base_model.trainable = False\n",
    "\n",
    "flatten_layer = layers.Flatten()\n",
    "prediction_layer = layers.Dense(jml, activation='softmax')\n",
    "\n",
    "\n",
    "model = models.Sequential([\n",
    "    base_model,\n",
    "    flatten_layer,\n",
    "    prediction_layer\n",
    "])\n",
    "\n",
    "model.compile(optimizer = 'sgd', loss = 'sparse_categorical_crossentropy', metrics = [\"accuracy\"])\n",
    "model.fit(x, y, batch_size=2, epochs=30, validation_split=0.1)"
   ]
  }
 ],
 "metadata": {
  "kernelspec": {
   "display_name": "Python 3.10.6 64-bit",
   "language": "python",
   "name": "python3"
  },
  "language_info": {
   "codemirror_mode": {
    "name": "ipython",
    "version": 3
   },
   "file_extension": ".py",
   "mimetype": "text/x-python",
   "name": "python",
   "nbconvert_exporter": "python",
   "pygments_lexer": "ipython3",
   "version": "3.10.6"
  },
  "orig_nbformat": 4,
  "vscode": {
   "interpreter": {
    "hash": "52634da84371cba311ea128a5ea7cdc41ff074b781779e754b270ff9f8153cee"
   }
  }
 },
 "nbformat": 4,
 "nbformat_minor": 2
}
