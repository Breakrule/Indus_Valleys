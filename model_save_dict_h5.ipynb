{
 "cells": [
  {
   "cell_type": "code",
   "execution_count": 31,
   "metadata": {},
   "outputs": [
    {
     "name": "stdout",
     "output_type": "stream",
     "text": [
      "INI ADALAH kawi_output\n"
     ]
    }
   ],
   "source": [
    "from keras.models import Sequential\n",
    "from keras.layers import Conv2D, MaxPooling2D, Flatten, Dense, Activation\n",
    "from keras.preprocessing.image import ImageDataGenerator\n",
    "import cv2\n",
    "import random\n",
    "import numpy as np\n",
    "import glob\n",
    "\n",
    "size_ = 64\n",
    "\n",
    "nama_huruf = [\n",
    "    \"kawi_output\"\n",
    "]\n",
    "\n",
    "for huruf in nama_huruf:\n",
    "    print(\"INI ADALAH \" + huruf)\n",
    "\n",
    "    x = []\n",
    "    y = []\n",
    "\n",
    "    list_folder = glob.glob(huruf + \"/train/*\")\n",
    "    # for c, nama_folder in enumerate(list_folder):\n",
    "    #     list_gambar = glob.glob(nama_folder+\"/*.png\")\n",
    "    #     for nama_gambar in list_gambar:\n",
    "    #         gambar = cv2.imread(nama_gambar)/255\n",
    "    #         gambar = cv2.resize(gambar, (size_, size_))\n",
    "    #         x.append(gambar)\n",
    "    #         y.append(c)\n",
    "\n",
    "    # jumlah_huruf = max(y) + 1\n",
    "\n",
    "    # variasi = [\n",
    "    #     [8, 16, 32, 64],\n",
    "    # ]\n",
    "\n",
    "    # for jenis in variasi:\n",
    "\n",
    "    #     model = Sequential()\n",
    "\n",
    "    #     model.add(Conv2D(jenis[0], (3, 3), input_shape = (size_, size_, 3), activation = 'relu'))\n",
    "    #     model.add(MaxPooling2D(pool_size = (2, 2)))\n",
    "    #     model.add(Conv2D(jenis[1], (3, 3), activation = 'relu'))\n",
    "    #     model.add(MaxPooling2D(pool_size = (2, 2)))\n",
    "    #     model.add(Conv2D(jenis[2], (3, 3), activation = 'relu'))\n",
    "    #     model.add(MaxPooling2D(pool_size = (2, 2)))\n",
    "    #     model.add(Conv2D(jenis[3], (3, 3), activation = 'relu'))\n",
    "    #     model.add(MaxPooling2D(pool_size = (2, 2)))\n",
    "    #     model.add(Flatten())\n",
    "\n",
    "    #     model.add(Dense(units = jumlah_huruf, activation = 'softmax'))\n",
    "\n",
    "    #     model.compile(optimizer = 'sgd', loss = 'sparse_categorical_crossentropy', metrics = [\"accuracy\"])\n",
    "    #     #model.summary()\n",
    "\n",
    "    #     z = list(zip(x, y))\n",
    "    #     random.shuffle(z)\n",
    "    #     x, y = zip(*z)\n",
    "    #     x = np.array(x)\n",
    "    #     y = np.array(y)\n",
    "\n",
    "    #     print(\"TRAINING \" + str(jenis))\n",
    "\n",
    "    #     model.fit(x, y, batch_size=2, epochs=15, validation_split=0.1)\n",
    "\n",
    "    #     model.save(huruf + \"_\" + str(jenis) + \".h5\")\n"
   ]
  },
  {
   "cell_type": "code",
   "execution_count": 32,
   "metadata": {},
   "outputs": [],
   "source": [
    "nama_kelas = [_.split(\"/\")[-1].split(\"\\\\\")[-1] for _ in list_folder]"
   ]
  },
  {
   "cell_type": "code",
   "execution_count": 33,
   "metadata": {},
   "outputs": [],
   "source": [
    "dict_kelas_to_index = {}\n",
    "dict_index_to_kelas = {}\n",
    "for i, nama in enumerate(nama_kelas):\n",
    "    dict_kelas_to_index[nama] = i\n",
    "    dict_index_to_kelas[i] = nama"
   ]
  },
  {
   "cell_type": "code",
   "execution_count": 34,
   "metadata": {},
   "outputs": [
    {
     "data": {
      "text/plain": [
       "{0: '0',\n",
       " 1: '1',\n",
       " 2: '2',\n",
       " 3: '3',\n",
       " 4: '4',\n",
       " 5: '5',\n",
       " 6: '6',\n",
       " 7: '7',\n",
       " 8: '8',\n",
       " 9: '9',\n",
       " 10: 'a',\n",
       " 11: 'a1',\n",
       " 12: 'ai',\n",
       " 13: 'au',\n",
       " 14: 'ba',\n",
       " 15: 'bha',\n",
       " 16: 'ca',\n",
       " 17: 'cha',\n",
       " 18: 'da',\n",
       " 19: 'da2',\n",
       " 20: 'dha',\n",
       " 21: 'dot',\n",
       " 22: 'e',\n",
       " 23: 'e1',\n",
       " 24: 'eop',\n",
       " 25: 'eos',\n",
       " 26: 'ga',\n",
       " 27: 'gha',\n",
       " 28: 'ha',\n",
       " 29: 'i',\n",
       " 30: 'i1',\n",
       " 31: 'ja',\n",
       " 32: 'jha',\n",
       " 33: 'ka',\n",
       " 34: 'kha',\n",
       " 35: 'l',\n",
       " 36: 'l1',\n",
       " 37: 'la',\n",
       " 38: 'ma',\n",
       " 39: 'na',\n",
       " 40: 'na2',\n",
       " 41: 'na3',\n",
       " 42: 'na4',\n",
       " 43: 'o',\n",
       " 44: 'o1',\n",
       " 45: 'opening',\n",
       " 46: 'pa',\n",
       " 47: 'pha',\n",
       " 48: 'r',\n",
       " 49: 'r1',\n",
       " 50: 'ra',\n",
       " 51: 'sa',\n",
       " 52: 'sa1',\n",
       " 53: 'sa2',\n",
       " 54: 'ta',\n",
       " 55: 'ta2',\n",
       " 56: 'tha2',\n",
       " 57: 'u',\n",
       " 58: 'u1',\n",
       " 59: 'virama',\n",
       " 60: 'wa',\n",
       " 61: 'ya'}"
      ]
     },
     "execution_count": 34,
     "metadata": {},
     "output_type": "execute_result"
    }
   ],
   "source": [
    "dict_index_to_kelas"
   ]
  }
 ],
 "metadata": {
  "kernelspec": {
   "display_name": "Python 3.10.6 64-bit",
   "language": "python",
   "name": "python3"
  },
  "language_info": {
   "codemirror_mode": {
    "name": "ipython",
    "version": 3
   },
   "file_extension": ".py",
   "mimetype": "text/x-python",
   "name": "python",
   "nbconvert_exporter": "python",
   "pygments_lexer": "ipython3",
   "version": "3.10.6"
  },
  "orig_nbformat": 4,
  "vscode": {
   "interpreter": {
    "hash": "52634da84371cba311ea128a5ea7cdc41ff074b781779e754b270ff9f8153cee"
   }
  }
 },
 "nbformat": 4,
 "nbformat_minor": 2
}
