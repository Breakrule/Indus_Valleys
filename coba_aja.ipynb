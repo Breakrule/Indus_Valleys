{
 "cells": [
  {
   "cell_type": "code",
   "execution_count": 1,
   "metadata": {},
   "outputs": [],
   "source": [
    "import Augmentor\n",
    "import glob\n",
    "\n",
    "def perbanyak_(ini, sebanyak_ini):\n",
    "  source_dir = ini\n",
    "  output_dir = \".\"\n",
    "  p = Augmentor.Pipeline(source_directory=source_dir, output_directory=output_dir)\n",
    "  p.random_distortion(probability=1, grid_width=4, grid_height=4, magnitude=1)\n",
    "  p.rotate(probability=0.7, max_left_rotation=13, max_right_rotation=13)\n",
    "  p.zoom_random(probability=0.5, percentage_area=0.9)\n",
    "  p.crop_random(probability=0.6, percentage_area=0.9)\n",
    "  p.resize(probability=1.0, width=64, height=64)\n",
    "\n",
    "  p.sample(sebanyak_ini)"
   ]
  },
  {
   "cell_type": "code",
   "execution_count": 2,
   "metadata": {},
   "outputs": [],
   "source": [
    "# Membuat daftar folder\n",
    "daftar_folder = glob.glob(\"coba_aja/*\")"
   ]
  },
  {
   "cell_type": "code",
   "execution_count": 3,
   "metadata": {},
   "outputs": [
    {
     "name": "stdout",
     "output_type": "stream",
     "text": [
      "Initialised with 10 image(s) found.\n",
      "Output directory set to coba_aja\\b/.."
     ]
    },
    {
     "name": "stderr",
     "output_type": "stream",
     "text": [
      "Processing <PIL.Image.Image image mode=RGBA size=64x64 at 0x28092D352D0>: 100%|██████████| 300/300 [00:00<00:00, 350.55 Samples/s]\n"
     ]
    }
   ],
   "source": [
    "# Memperbanyak file\n",
    "for daftar_coba in daftar_folder :\n",
    "    perbanyak_(daftar_coba+\"/\",300)"
   ]
  },
  {
   "cell_type": "code",
   "execution_count": 4,
   "metadata": {},
   "outputs": [
    {
     "name": "stderr",
     "output_type": "stream",
     "text": [
      "Copying files: 310 files [00:01, 220.81 files/s]\n"
     ]
    }
   ],
   "source": [
    "# Membagi file 80%, 10%, 10%\n",
    "import splitfolders\n",
    "\n",
    "splitfolders.ratio(\"coba_aja\", output=\"coba_output\",\n",
    "    seed=1337, ratio=(.8, .1, .1), group_prefix=None, move=False)"
   ]
  }
 ],
 "metadata": {
  "kernelspec": {
   "display_name": "Python 3.10.6 64-bit",
   "language": "python",
   "name": "python3"
  },
  "language_info": {
   "codemirror_mode": {
    "name": "ipython",
    "version": 3
   },
   "file_extension": ".py",
   "mimetype": "text/x-python",
   "name": "python",
   "nbconvert_exporter": "python",
   "pygments_lexer": "ipython3",
   "version": "3.10.6"
  },
  "orig_nbformat": 4,
  "vscode": {
   "interpreter": {
    "hash": "52634da84371cba311ea128a5ea7cdc41ff074b781779e754b270ff9f8153cee"
   }
  }
 },
 "nbformat": 4,
 "nbformat_minor": 2
}
