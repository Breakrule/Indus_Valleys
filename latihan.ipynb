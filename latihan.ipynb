{
 "cells": [
  {
   "cell_type": "code",
   "execution_count": null,
   "metadata": {},
   "outputs": [],
   "source": [
    "import Augmentor\n",
    "import os\n",
    "\n",
    "def perbanyak_(ini, sebanyak_ini):\n",
    "  source_dir = ini\n",
    "  output_dir = \".\"\n",
    "  p = Augmentor.Pipeline(source_directory=source_dir, output_directory=output_dir)\n",
    "  p.random_distortion(probability=1, grid_width=4, grid_height=4, magnitude=1)\n",
    "  p.rotate(probability=0.7, max_left_rotation=13, max_right_rotation=13)\n",
    "  p.zoom_random(probability=0.5, percentage_area=0.9)\n",
    "  p.crop_random(probability=0.6, percentage_area=0.9)\n",
    "  p.resize(probability=1.0, width=64, height=64)\n",
    "\n",
    "  p.sample(sebanyak_ini)"
   ]
  },
  {
   "cell_type": "code",
   "execution_count": 1,
   "metadata": {},
   "outputs": [],
   "source": [
    "import glob\n",
    "\n",
    "daftar_folder=glob.glob(\"dataset_latihan/train/*\")"
   ]
  },
  {
   "cell_type": "code",
   "execution_count": null,
   "metadata": {},
   "outputs": [],
   "source": [
    "for nama in daftar_folder:\n",
    "    nama_folder=nama.split(\"/\")[-1].split(\"\\\\\")[-1]\n",
    "    os.mkdir(\"dataset_latihan/val/\"+nama_folder)"
   ]
  },
  {
   "cell_type": "code",
   "execution_count": 1,
   "metadata": {},
   "outputs": [
    {
     "data": {
      "text/plain": [
       "'kkk'"
      ]
     },
     "execution_count": 1,
     "metadata": {},
     "output_type": "execute_result"
    }
   ],
   "source": [
    "haha = \"ini adalah kalimat biasa ada folder di c:/b/d/a/kkk.jpg\"\n",
    "\n",
    "haha.split(\"/\")[-1].split(\".\")[0]"
   ]
  },
  {
   "cell_type": "code",
   "execution_count": null,
   "metadata": {},
   "outputs": [],
   "source": [
    "# daftar_folder[0].split(\"/\")[-1].split(\"\\\\\")[-1]\n",
    "import random\n",
    "import shutil\n",
    "\n",
    "for nama in daftar_folder:\n",
    "    nama_folder=nama.split(\"/\")[-1].split(\"\\\\\")[-1]\n",
    "    #os.remove(nama+'/'+nama_folder+'.png')\n",
    "    isi_folder = glob.glob(nama+\"/*.png\")\n",
    "    random.shuffle(isi_folder)\n",
    "    for c,nama_file in enumerate(isi_folder[:30]):\n",
    "        shutil.move (nama_file, \"dataset_latihan/val/\"+nama_folder+\"/\"+str(c)+\".png\")\n",
    "    print(isi_folder)"
   ]
  },
  {
   "cell_type": "code",
   "execution_count": null,
   "metadata": {},
   "outputs": [],
   "source": [
    "for c, nama_file in enumerate(isi_folder[:30]):\n",
    "    print(c, nama_file)"
   ]
  },
  {
   "cell_type": "code",
   "execution_count": null,
   "metadata": {},
   "outputs": [],
   "source": [
    "from keras.models import Sequential\n",
    "from keras.layers import Conv2D, MaxPooling2D, Flatten, Dense, Activation\n",
    "from keras.preprocessing.image import ImageDataGenerator\n",
    "from keras.metrics import categorical_accuracy\n",
    "\n",
    "\n",
    "size_ = 32\n",
    "\n",
    "model = Sequential()\n",
    "\n",
    "model.add(Conv2D(8, (3, 3), input_shape = (size_, size_, 3), activation = 'relu'))\n",
    "model.add(Conv2D(16, (3, 3), activation = 'relu'))\n",
    "model.add(MaxPooling2D(pool_size = (2, 2)))\n",
    "model.add(Conv2D(32, (3, 3), activation = 'relu'))\n",
    "model.add(MaxPooling2D(pool_size = (2, 2)))\n",
    "model.add(Conv2D(64, (3, 3), activation = 'relu'))\n",
    "model.add(MaxPooling2D(pool_size = (2, 2)))\n",
    "model.add(Flatten())\n",
    "\n",
    "model.add(Dense(units = 22, activation = 'softmax'))\n",
    "\n",
    "model.compile(optimizer = 'sgd', loss = 'sparse_categorical_crossentropy', metrics = [\"accuracy\"])\n",
    "model.summary()"
   ]
  },
  {
   "cell_type": "code",
   "execution_count": 156,
   "metadata": {},
   "outputs": [],
   "source": [
    "import cv2\n",
    "\n",
    "x = []\n",
    "y = []\n",
    "\n",
    "list_folder = glob.glob(\"dataset_latihan/train/*\")\n",
    "for c, nama_folder in enumerate(list_folder):\n",
    "    list_gambar = glob.glob(nama_folder+\"/*.png\")\n",
    "    for nama_gambar in list_gambar:\n",
    "        gambar = cv2.imread(nama_gambar)/255\n",
    "        gambar = cv2.resize(gambar, (32, 32))\n",
    "        x.append(gambar)\n",
    "        y.append(c)"
   ]
  },
  {
   "cell_type": "code",
   "execution_count": null,
   "metadata": {},
   "outputs": [],
   "source": [
    "import random\n",
    "import numpy as np\n",
    "\n",
    "z = list(zip(x, y))\n",
    "random.shuffle(z)\n",
    "x, y = zip(*z)\n",
    "x = np.array(x)\n",
    "y = np.array(y)\n",
    "\n",
    "model.fit(x, y, batch_size=2, epochs=30, validation_split=0.1)"
   ]
  },
  {
   "cell_type": "code",
   "execution_count": 110,
   "metadata": {},
   "outputs": [],
   "source": [
    "letterB = \"dataset_latihan/test/B/B.png\"\n",
    "letterD = \"dataset_latihan/test/D/D.png\"\n",
    "letterG = \"dataset_latihan/test/G/G.png\""
   ]
  },
  {
   "cell_type": "code",
   "execution_count": 111,
   "metadata": {},
   "outputs": [
    {
     "data": {
      "image/png": "[encoded data removed]",
      "text/plain": [
       "<Figure size 144x144 with 1 Axes>"
      ]
     },
     "metadata": {
      "needs_background": "light"
     },
     "output_type": "display_data"
    },
    {
     "data": {
      "image/png": "[encoded data removed]",
      "text/plain": [
       "<Figure size 144x144 with 1 Axes>"
      ]
     },
     "metadata": {
      "needs_background": "light"
     },
     "output_type": "display_data"
    },
    {
     "data": {
      "image/png": "[encoded data removed]",
      "text/plain": [
       "<Figure size 144x144 with 1 Axes>"
      ]
     },
     "metadata": {
      "needs_background": "light"
     },
     "output_type": "display_data"
    }
   ],
   "source": [
    "import matplotlib.pyplot as plt\n",
    "\n",
    "\n",
    "def tampilkan_(ini):\n",
    "  fig = plt.figure(figsize=(2, 2))\n",
    "  img = plt.imread(ini)\n",
    "  plt.imshow(img)\n",
    "  plt.show()\n",
    "\n",
    "tampilkan_(letterB)\n",
    "tampilkan_(letterD)\n",
    "tampilkan_(letterG)"
   ]
  },
  {
   "cell_type": "code",
   "execution_count": 112,
   "metadata": {},
   "outputs": [
    {
     "name": "stdout",
     "output_type": "stream",
     "text": [
      "{0: 'B', 1: 'D', 2: 'G', 3: 'H', 4: 'H1', 5: 'K', 6: 'L', 7: 'M', 8: 'N', 9: 'P', 10: 'Q', 11: 'R', 12: 'S', 13: 'S1', 14: 'S2', 15: 'T', 16: 'T1', 17: 'W', 18: 'Y', 19: 'Z', 20: 'koma', 21: 'petik'}\n"
     ]
    }
   ],
   "source": [
    "def switch_dict_key_values(this_dict):\n",
    "    return dict((v,k) for k,v in this_dict.items())\n",
    "\n",
    "nama_train_data = switch_dict_key_values(train_data.class_indices)\n",
    "print(nama_train_data)"
   ]
  },
  {
   "cell_type": "code",
   "execution_count": null,
   "metadata": {},
   "outputs": [],
   "source": [
    "from keras.preprocessing import image\n",
    "import numpy as np\n",
    "\n",
    "img = image.load_img(letterB, target_size = (size_, size_))\n",
    "img = image.img_to_array(img)\n",
    "img = np.expand_dims(img, axis = 0)\n",
    "\n",
    "hasil = model.predict_classes(img)\n",
    "print(\"File gambar [\", \"Letter B\", \"] diprediksi sebagai\", hasil, \"alias terbaca sebagai :: \", nama_train_data[hasil[0]], \".\")"
   ]
  }
 ],
 "metadata": {
  "kernelspec": {
   "display_name": "Python 3.10.4 64-bit",
   "language": "python",
   "name": "python3"
  },
  "language_info": {
   "codemirror_mode": {
    "name": "ipython",
    "version": 3
   },
   "file_extension": ".py",
   "mimetype": "text/x-python",
   "name": "python",
   "nbconvert_exporter": "python",
   "pygments_lexer": "ipython3",
   "version": "3.10.6"
  },
  "orig_nbformat": 4,
  "vscode": {
   "interpreter": {
    "hash": "52634da84371cba311ea128a5ea7cdc41ff074b781779e754b270ff9f8153cee"
   }
  }
 },
 "nbformat": 4,
 "nbformat_minor": 2
}
