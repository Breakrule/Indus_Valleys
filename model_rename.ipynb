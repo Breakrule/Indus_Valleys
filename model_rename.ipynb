{
 "cells": [
  {
   "cell_type": "code",
   "execution_count": 6,
   "metadata": {},
   "outputs": [
    {
     "name": "stdout",
     "output_type": "stream",
     "text": [
      "selesai\n",
      "nama baru :\n",
      "['indus_1512.png', 'indus_1513.png', 'indus_1514.png', 'indus_1515.png', 'indus_1516.png', 'indus_1517.png', 'indus_1518.png', 'indus_1519.png', 'indus_1520.png', 'indus_1521.png', 'indus_1522.png', 'indus_1523.png', 'indus_1524.png', 'indus_1525.png', 'indus_1526.png', 'indus_1527.png', 'indus_1528.png', 'indus_1529.png', 'indus_1530.png', 'indus_1531.png', 'indus_1532.png', 'indus_1533.png', 'indus_1534.png', 'indus_1535.png', 'indus_1536.png', 'indus_1537.png', 'indus_1538.png', 'indus_1539.png', 'indus_1540.png', 'indus_1541.png', 'indus_1542.png', 'indus_1543.png', 'indus_1544.png', 'indus_1545.png', 'indus_1546.png', 'indus_1547.png', 'indus_1548.png', 'indus_1549.png', 'indus_1550.png', 'indus_1551.png', 'indus_1552.png', 'indus_1553.png', 'indus_1554.png', 'indus_1555.png', 'indus_1556.png', 'indus_1557.png', 'indus_1558.png', 'indus_1559.png', 'indus_1560.png', 'indus_1561.png', 'indus_1562.png', 'indus_1563.png', 'indus_1564.png', 'indus_1565.png', 'indus_1566.png', 'indus_1567.png', 'indus_1568.png', 'indus_1569.png', 'indus_1570.png', 'indus_1571.png', 'indus_1572.png', 'indus_1573.png', 'indus_1574.png', 'indus_1575.png', 'indus_1576.png', 'indus_1577.png', 'indus_1578.png', 'indus_1579.png', 'indus_1580.png', 'indus_1581.png', 'indus_1582.png', 'indus_1583.png', 'indus_1584.png', 'indus_1585.png', 'indus_1586.png', 'indus_1587.png', 'indus_1588.png', 'indus_1589.png', 'indus_1590.png', 'indus_1591.png', 'indus_1592.png', 'indus_1593.png', 'indus_1594.png', 'indus_1595.png', 'indus_1596.png', 'indus_1597.png', 'indus_1598.png', 'indus_1599.png', 'indus_1600.png', 'indus_1601.png', 'indus_1602.png', 'indus_1603.png', 'indus_1604.png', 'indus_1605.png', 'indus_1606.png', 'indus_1607.png', 'indus_1608.png', 'indus_1609.png', 'indus_1610.png', 'indus_1611.png', 'indus_1612.png', 'indus_1613.png', 'indus_1614.png', 'indus_1615.png', 'indus_1616.png', 'indus_1617.png', 'indus_1618.png', 'indus_1619.png', 'indus_1620.png', 'indus_1621.png', 'indus_1622.png', 'indus_1623.png', 'indus_1624.png', 'indus_1625.png', 'indus_1626.png', 'indus_1627.png', 'indus_1628.png', 'indus_1629.png', 'indus_1630.png', 'indus_1631.png', 'indus_1632.png', 'indus_1633.png', 'indus_1634.png', 'indus_1635.png', 'indus_1636.png', 'indus_1637.png', 'indus_1638.png', 'indus_1639.png', 'indus_1640.png', 'indus_1641.png', 'indus_1642.png', 'indus_1643.png', 'indus_1644.png', 'indus_1645.png', 'indus_1646.png', 'indus_1647.png', 'indus_1648.png', 'indus_1649.png', 'indus_1650.png', 'indus_1651.png', 'indus_1652.png', 'indus_1653.png', 'indus_1654.png', 'indus_1655.png', 'indus_1656.png', 'indus_1657.png', 'indus_1658.png', 'indus_1659.png', 'indus_1660.png', 'indus_1661.png', 'indus_1662.png', 'indus_1663.png', 'indus_1664.png', 'indus_1665.png', 'indus_1666.png', 'indus_1667.png', 'indus_1668.png', 'indus_1669.png', 'indus_1670.png', 'indus_1671.png', 'indus_1672.png', 'indus_1673.png', 'indus_1674.png', 'indus_1675.png', 'indus_1676.png', 'indus_1677.png', 'indus_1678.png', 'indus_1679.png', 'indus_1680.png', 'indus_1681.png', 'indus_1682.png', 'indus_1683.png', 'indus_1684.png', 'indus_1685.png', 'indus_1686.png', 'indus_1687.png', 'indus_1688.png', 'indus_1689.png', 'indus_1690.png', 'indus_1691.png', 'indus_1692.png', 'indus_1693.png', 'indus_1694.png', 'indus_1695.png', 'indus_1696.png', 'indus_1697.png', 'indus_1698.png', 'indus_1699.png', 'indus_1700.png', 'indus_1701.png', 'indus_1702.png', 'indus_1703.png', 'indus_1704.png', 'indus_1705.png', 'indus_1706.png', 'indus_1707.png', 'indus_1708.png', 'indus_1709.png', 'indus_1710.png', 'indus_1711.png', 'indus_1712.png', 'indus_1713.png', 'indus_1714.png', 'indus_1715.png', 'indus_1716.png', 'indus_1717.png', 'indus_1718.png', 'indus_1719.png', 'indus_1720.png', 'indus_1721.png', 'indus_1722.png', 'indus_1723.png', 'indus_1724.png', 'indus_1725.png', 'indus_1726.png', 'indus_1727.png', 'indus_1728.png', 'indus_1729.png', 'indus_1730.png', 'indus_1731.png', 'indus_1732.png', 'indus_1733.png', 'indus_1734.png', 'indus_1735.png', 'indus_1736.png', 'indus_1737.png', 'indus_1738.png', 'indus_1739.png', 'indus_1740.png', 'indus_1741.png', 'indus_1742.png', 'indus_1743.png', 'indus_1744.png', 'indus_1745.png', 'indus_1746.png', 'indus_1747.png', 'indus_1748.png', 'indus_1749.png', 'indus_1750.png', 'indus_1751.png', 'indus_1752.png', 'indus_1753.png', 'indus_1754.png', 'indus_1755.png', 'indus_1756.png', 'indus_1757.png', 'indus_1758.png', 'indus_1759.png', 'indus_1760.png', 'indus_1761.png', 'indus_1762.png', 'indus_1763.png', 'indus_1764.png', 'indus_1765.png', 'indus_1766.png', 'indus_1767.png', 'indus_1768.png', 'indus_1769.png', 'indus_1770.png', 'indus_1771.png', 'indus_1772.png', 'indus_1773.png', 'indus_1774.png', 'indus_1775.png', 'indus_1776.png', 'indus_1777.png', 'indus_1778.png', 'indus_1779.png', 'indus_1780.png', 'indus_1781.png', 'indus_1782.png', 'indus_1783.png', 'indus_1784.png', 'indus_1785.png', 'indus_1786.png', 'indus_1787.png', 'indus_1788.png', 'indus_1789.png', 'indus_1790.png', 'indus_1791.png', 'indus_1792.png', 'indus_1793.png', 'indus_1794.png', 'indus_1795.png', 'indus_1796.png', 'indus_1797.png', 'indus_1798.png', 'indus_1799.png', 'indus_1800.png', 'indus_1801.png', 'indus_1802.png', 'indus_1803.png', 'indus_1804.png', 'indus_1805.png', 'indus_1806.png', 'indus_1807.png', 'indus_1808.png', 'indus_1809.png', 'indus_1810.png', 'indus_1811.png', 'indus_1812.png', 'indus_1813.png', 'indus_1814.png', 'indus_1815.png', 'indus_1816.png', 'indus_1817.png', 'indus_1818.png', 'indus_1819.png', 'indus_1820.png', 'indus_1821.png', 'indus_1822.png', 'indus_1823.png', 'indus_1824.png', 'indus_1825.png', 'indus_1826.png', 'indus_1827.png', 'indus_1828.png', 'indus_1829.png', 'indus_1830.png', 'indus_1831.png', 'indus_1832.png', 'indus_1833.png', 'indus_1834.png', 'indus_1835.png', 'indus_1836.png', 'indus_1837.png', 'indus_1838.png', 'indus_1839.png', 'indus_1840.png', 'indus_1841.png', 'indus_1842.png', 'indus_1843.png', 'indus_1844.png', 'indus_1845.png', 'indus_1846.png']\n"
     ]
    }
   ],
   "source": [
    "import os\n",
    "\n",
    "folder = r'C:\\TA\\crop_5\\\\'\n",
    "count = 1512\n",
    "\n",
    "for file_name in os.listdir(folder):\n",
    "    source = folder + file_name\n",
    "\n",
    "    destination = folder + \"indus_\" + str(count) + \".png\"\n",
    "\n",
    "    os.rename(source, destination)\n",
    "    count += 1\n",
    "\n",
    "print(\"selesai\")\n",
    "print(\"nama baru :\")\n",
    "res = os.listdir(folder)\n",
    "print(res)"
   ]
  }
 ],
 "metadata": {
  "kernelspec": {
   "display_name": "Python 3.10.6 64-bit",
   "language": "python",
   "name": "python3"
  },
  "language_info": {
   "codemirror_mode": {
    "name": "ipython",
    "version": 3
   },
   "file_extension": ".py",
   "mimetype": "text/x-python",
   "name": "python",
   "nbconvert_exporter": "python",
   "pygments_lexer": "ipython3",
   "version": "3.10.6"
  },
  "orig_nbformat": 4,
  "vscode": {
   "interpreter": {
    "hash": "52634da84371cba311ea128a5ea7cdc41ff074b781779e754b270ff9f8153cee"
   }
  }
 },
 "nbformat": 4,
 "nbformat_minor": 2
}
